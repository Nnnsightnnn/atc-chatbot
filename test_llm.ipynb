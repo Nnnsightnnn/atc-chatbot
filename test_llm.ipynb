{
 "cells": [
  {
   "cell_type": "code",
   "execution_count": 10,
   "id": "68bd20af-97a9-4fbc-9fa7-96c1d5daec5e",
   "metadata": {
    "tags": []
   },
   "outputs": [],
   "source": [
    "import os"
   ]
  },
  {
   "cell_type": "code",
   "execution_count": 11,
   "id": "c2c34b01-07e1-4698-b75f-6ea23533adfd",
   "metadata": {
    "tags": []
   },
   "outputs": [],
   "source": [
    "#pip install openai\n",
    "#pip install langchain[all]\n",
    "#pip install google-search-results\n",
    "#pip install --upgrade google-api-python-client google-auth-httplib2 google-auth-oauthlib"
   ]
  },
  {
   "cell_type": "code",
   "execution_count": 12,
   "id": "5ac351b2-e942-458a-b773-05f44af8b54f",
   "metadata": {
    "tags": []
   },
   "outputs": [],
   "source": [
    "openai_api_key = os.environ.get('OPENAI_API_KEY')"
   ]
  },
  {
   "cell_type": "code",
   "execution_count": 14,
   "id": "d1564210-cde6-43a6-954a-ca79b087147c",
   "metadata": {
    "tags": []
   },
   "outputs": [],
   "source": [
    "from langchain.llms import OpenAI"
   ]
  },
  {
   "cell_type": "code",
   "execution_count": 16,
   "id": "f9e82ddc-e6e4-48e0-9ca0-574772f4e6c2",
   "metadata": {
    "tags": []
   },
   "outputs": [],
   "source": [
    "llm = OpenAI(temperature=0.9)"
   ]
  },
  {
   "cell_type": "code",
   "execution_count": 17,
   "id": "dcace266-0018-4ad3-8db0-26871c92ef8b",
   "metadata": {
    "tags": []
   },
   "outputs": [
    {
     "name": "stdout",
     "output_type": "stream",
     "text": [
      "\n",
      "\n",
      "1. Great Basin National Park, Nevada\n",
      "2. Death Valley National Park, California\n",
      "3. Big Bend National Park, Texas\n",
      "4. Canyonlands National Park, Utah\n",
      "5. Mount Rainier National Park, Washington\n",
      "6. Yellowstone National Park, Wyoming\n",
      "7. Glacier National Park, Montana\n",
      "8. Craters of the Moon National Monument, Idaho\n",
      "9. Acadia National Park, Maine\n",
      "10. Cadillac Mountain, Maine\n"
     ]
    }
   ],
   "source": [
    "text = \"where are some great places to visit if I want to see less light pollution in the US?\"\n",
    "print(llm(text))"
   ]
  }
 ],
 "metadata": {
  "kernelspec": {
   "display_name": "Python 3 (ipykernel)",
   "language": "python",
   "name": "python3"
  },
  "language_info": {
   "codemirror_mode": {
    "name": "ipython",
    "version": 3
   },
   "file_extension": ".py",
   "mimetype": "text/x-python",
   "name": "python",
   "nbconvert_exporter": "python",
   "pygments_lexer": "ipython3",
   "version": "3.10.4"
  }
 },
 "nbformat": 4,
 "nbformat_minor": 5
}
